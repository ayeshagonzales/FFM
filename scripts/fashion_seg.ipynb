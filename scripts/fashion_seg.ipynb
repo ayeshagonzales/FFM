{
 "cells": [
  {
   "cell_type": "code",
   "execution_count": null,
   "id": "b4fb061a",
   "metadata": {},
   "outputs": [],
   "source": [
    "# Use a pipeline as a high-level helper\n",
    "from transformers import pipeline\n",
    "\n",
    "pipe = pipeline(\"image-segmentation\", model=\"sayeed99/segformer-b3-fashion\")"
   ]
  },
  {
   "cell_type": "code",
   "execution_count": null,
   "id": "cc696324",
   "metadata": {},
   "outputs": [],
   "source": [
    "# Load model directly\n",
    "from transformers import AutoImageProcessor, SegformerForSemanticSegmentation\n",
    "\n",
    "processor = AutoImageProcessor.from_pretrained(\"sayeed99/segformer-b3-fashion\")\n",
    "model = SegformerForSemanticSegmentation.from_pretrained(\"sayeed99/segformer-b3-fashion\")"
   ]
  }
 ],
 "metadata": {
  "language_info": {
   "name": "python"
  }
 },
 "nbformat": 4,
 "nbformat_minor": 5
}
